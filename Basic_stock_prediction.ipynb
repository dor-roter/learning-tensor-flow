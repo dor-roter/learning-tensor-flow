{
  "nbformat": 4,
  "nbformat_minor": 0,
  "metadata": {
    "colab": {
      "name": "Basic stock prediction.ipynb",
      "provenance": [],
      "collapsed_sections": [],
      "authorship_tag": "ABX9TyPAfgmIxRzyFz6qtbbJ6ftW",
      "include_colab_link": true
    },
    "kernelspec": {
      "name": "python3",
      "display_name": "Python 3"
    }
  },
  "cells": [
    {
      "cell_type": "markdown",
      "metadata": {
        "id": "view-in-github",
        "colab_type": "text"
      },
      "source": [
        "<a href=\"https://colab.research.google.com/github/dor-roter/learning-tensor-flow/blob/master/Basic_stock_prediction.ipynb\" target=\"_parent\"><img src=\"https://colab.research.google.com/assets/colab-badge.svg\" alt=\"Open In Colab\"/></a>"
      ]
    },
    {
      "cell_type": "code",
      "metadata": {
        "id": "rSIMh8HxMi6B"
      },
      "source": [
        "# import libraries\n",
        "import math\n",
        "import pandas_datareader as web\n",
        "import numpy as np\n",
        "import pandas as pd\n",
        "from sklearn.preprocessing import MinMaxScaler\n",
        "from keras import Sequential\n",
        "from keras.layers import Dense,LSTM, Flatten\n",
        "import matplotlib.pyplot as plt\n",
        "plt.style.use(\"fivethirtyeight\")"
      ],
      "execution_count": null,
      "outputs": []
    },
    {
      "cell_type": "code",
      "metadata": {
        "id": "2XLS9hTUOI-e",
        "colab": {
          "base_uri": "https://localhost:8080/",
          "height": 436
        },
        "outputId": "db632080-8a71-4fc3-b8a7-d9db39696f56"
      },
      "source": [
        "# get stock quote\n",
        "df = web.DataReader('MSFT', data_source='yahoo', start='2005-01-01', end='2020-03-24')\n",
        "df"
      ],
      "execution_count": null,
      "outputs": [
        {
          "output_type": "execute_result",
          "data": {
            "text/html": [
              "<div>\n",
              "<style scoped>\n",
              "    .dataframe tbody tr th:only-of-type {\n",
              "        vertical-align: middle;\n",
              "    }\n",
              "\n",
              "    .dataframe tbody tr th {\n",
              "        vertical-align: top;\n",
              "    }\n",
              "\n",
              "    .dataframe thead th {\n",
              "        text-align: right;\n",
              "    }\n",
              "</style>\n",
              "<table border=\"1\" class=\"dataframe\">\n",
              "  <thead>\n",
              "    <tr style=\"text-align: right;\">\n",
              "      <th></th>\n",
              "      <th>High</th>\n",
              "      <th>Low</th>\n",
              "      <th>Open</th>\n",
              "      <th>Close</th>\n",
              "      <th>Volume</th>\n",
              "      <th>Adj Close</th>\n",
              "    </tr>\n",
              "    <tr>\n",
              "      <th>Date</th>\n",
              "      <th></th>\n",
              "      <th></th>\n",
              "      <th></th>\n",
              "      <th></th>\n",
              "      <th></th>\n",
              "      <th></th>\n",
              "    </tr>\n",
              "  </thead>\n",
              "  <tbody>\n",
              "    <tr>\n",
              "      <th>2005-01-03</th>\n",
              "      <td>26.950001</td>\n",
              "      <td>26.650000</td>\n",
              "      <td>26.799999</td>\n",
              "      <td>26.740000</td>\n",
              "      <td>65002900.0</td>\n",
              "      <td>19.347652</td>\n",
              "    </tr>\n",
              "    <tr>\n",
              "      <th>2005-01-04</th>\n",
              "      <td>27.100000</td>\n",
              "      <td>26.660000</td>\n",
              "      <td>26.870001</td>\n",
              "      <td>26.840000</td>\n",
              "      <td>109442100.0</td>\n",
              "      <td>19.420000</td>\n",
              "    </tr>\n",
              "    <tr>\n",
              "      <th>2005-01-05</th>\n",
              "      <td>27.100000</td>\n",
              "      <td>26.760000</td>\n",
              "      <td>26.840000</td>\n",
              "      <td>26.780001</td>\n",
              "      <td>72463500.0</td>\n",
              "      <td>19.376589</td>\n",
              "    </tr>\n",
              "    <tr>\n",
              "      <th>2005-01-06</th>\n",
              "      <td>27.059999</td>\n",
              "      <td>26.639999</td>\n",
              "      <td>26.850000</td>\n",
              "      <td>26.750000</td>\n",
              "      <td>76890500.0</td>\n",
              "      <td>19.354885</td>\n",
              "    </tr>\n",
              "    <tr>\n",
              "      <th>2005-01-07</th>\n",
              "      <td>26.889999</td>\n",
              "      <td>26.620001</td>\n",
              "      <td>26.820000</td>\n",
              "      <td>26.670000</td>\n",
              "      <td>68723300.0</td>\n",
              "      <td>19.297003</td>\n",
              "    </tr>\n",
              "    <tr>\n",
              "      <th>...</th>\n",
              "      <td>...</td>\n",
              "      <td>...</td>\n",
              "      <td>...</td>\n",
              "      <td>...</td>\n",
              "      <td>...</td>\n",
              "      <td>...</td>\n",
              "    </tr>\n",
              "    <tr>\n",
              "      <th>2020-03-18</th>\n",
              "      <td>146.000000</td>\n",
              "      <td>135.020004</td>\n",
              "      <td>138.000000</td>\n",
              "      <td>140.399994</td>\n",
              "      <td>81593200.0</td>\n",
              "      <td>140.399994</td>\n",
              "    </tr>\n",
              "    <tr>\n",
              "      <th>2020-03-19</th>\n",
              "      <td>150.149994</td>\n",
              "      <td>139.000000</td>\n",
              "      <td>142.770004</td>\n",
              "      <td>142.710007</td>\n",
              "      <td>85922700.0</td>\n",
              "      <td>142.710007</td>\n",
              "    </tr>\n",
              "    <tr>\n",
              "      <th>2020-03-20</th>\n",
              "      <td>147.100006</td>\n",
              "      <td>135.860001</td>\n",
              "      <td>146.000000</td>\n",
              "      <td>137.350006</td>\n",
              "      <td>84866200.0</td>\n",
              "      <td>137.350006</td>\n",
              "    </tr>\n",
              "    <tr>\n",
              "      <th>2020-03-23</th>\n",
              "      <td>140.570007</td>\n",
              "      <td>132.520004</td>\n",
              "      <td>137.009995</td>\n",
              "      <td>135.979996</td>\n",
              "      <td>78975200.0</td>\n",
              "      <td>135.979996</td>\n",
              "    </tr>\n",
              "    <tr>\n",
              "      <th>2020-03-24</th>\n",
              "      <td>149.600006</td>\n",
              "      <td>141.270004</td>\n",
              "      <td>143.750000</td>\n",
              "      <td>148.339996</td>\n",
              "      <td>82516700.0</td>\n",
              "      <td>148.339996</td>\n",
              "    </tr>\n",
              "  </tbody>\n",
              "</table>\n",
              "<p>3832 rows × 6 columns</p>\n",
              "</div>"
            ],
            "text/plain": [
              "                  High         Low  ...       Volume   Adj Close\n",
              "Date                                ...                         \n",
              "2005-01-03   26.950001   26.650000  ...   65002900.0   19.347652\n",
              "2005-01-04   27.100000   26.660000  ...  109442100.0   19.420000\n",
              "2005-01-05   27.100000   26.760000  ...   72463500.0   19.376589\n",
              "2005-01-06   27.059999   26.639999  ...   76890500.0   19.354885\n",
              "2005-01-07   26.889999   26.620001  ...   68723300.0   19.297003\n",
              "...                ...         ...  ...          ...         ...\n",
              "2020-03-18  146.000000  135.020004  ...   81593200.0  140.399994\n",
              "2020-03-19  150.149994  139.000000  ...   85922700.0  142.710007\n",
              "2020-03-20  147.100006  135.860001  ...   84866200.0  137.350006\n",
              "2020-03-23  140.570007  132.520004  ...   78975200.0  135.979996\n",
              "2020-03-24  149.600006  141.270004  ...   82516700.0  148.339996\n",
              "\n",
              "[3832 rows x 6 columns]"
            ]
          },
          "metadata": {
            "tags": []
          },
          "execution_count": 458
        }
      ]
    },
    {
      "cell_type": "code",
      "metadata": {
        "id": "VuvQaX6_PaW5",
        "colab": {
          "base_uri": "https://localhost:8080/",
          "height": 558
        },
        "outputId": "f03ae245-8c86-4b78-f557-c3998451dffc"
      },
      "source": [
        "# visualize closing stock data\n",
        "plt.figure(figsize=(16,8))\n",
        "plt.title('Close Price History')\n",
        "plt.plot(df['Close'])\n",
        "plt.xlabel('Date', fontsize=18)\n",
        "plt.ylabel('Close Price USD ($)')\n",
        "plt.show()"
      ],
      "execution_count": null,
      "outputs": [
        {
          "output_type": "display_data",
          "data": {
            "image/png": "[encoded data removed]",
            "text/plain": [
              "<Figure size 1152x576 with 1 Axes>"
            ]
          },
          "metadata": {
            "tags": []
          }
        }
      ]
    },
    {
      "cell_type": "code",
      "metadata": {
        "id": "hiXeR3aNQW8Y"
      },
      "source": [
        "# create a new dataframe with only 'Open' and 'Close' columns\n",
        "data = df.filter(['Close'])\n",
        "dataset = data.values\n",
        "\n",
        "# set training data size\n",
        "precentage = 0.9\n",
        "training_data_len = math.ceil(len(dataset) * precentage)\n",
        "\n",
        "# scale data\n",
        "scaler = MinMaxScaler(feature_range=(0,1))\n",
        "scaled_data = scaler.fit_transform(dataset)\n"
      ],
      "execution_count": null,
      "outputs": []
    },
    {
      "cell_type": "code",
      "metadata": {
        "id": "MBBZ07OoUXe3",
        "colab": {
          "base_uri": "https://localhost:8080/",
          "height": 144
        },
        "outputId": "d3555f77-c025-4e2a-8813-e6e4970a502e"
      },
      "source": [
        "dataset"
      ],
      "execution_count": null,
      "outputs": [
        {
          "output_type": "execute_result",
          "data": {
            "text/plain": [
              "array([[ 26.73999977],\n",
              "       [ 26.84000015],\n",
              "       [ 26.78000069],\n",
              "       ...,\n",
              "       [137.3500061 ],\n",
              "       [135.97999573],\n",
              "       [148.33999634]])"
            ]
          },
          "metadata": {
            "tags": []
          },
          "execution_count": 501
        }
      ]
    },
    {
      "cell_type": "code",
      "metadata": {
        "id": "Y7oSB6_3RkV3"
      },
      "source": [
        "# create taining dataset\n",
        "\n",
        "train_data = scaled_data[0:training_data_len, 0:training_data_len]\n",
        "x_train = []\n",
        "y_train = []\n",
        "\n",
        "# fill x, y training datasets\n",
        "for i in range(3, len(train_data)):\n",
        "  x_train.append(train_data[i-3:i, 0])\n",
        "  y_train.append(train_data[i, 0])\n"
      ],
      "execution_count": null,
      "outputs": []
    },
    {
      "cell_type": "code",
      "metadata": {
        "id": "aHXy6GWinKtH",
        "colab": {
          "base_uri": "https://localhost:8080/",
          "height": 53
        },
        "outputId": "5a67c008-6f58-430c-f4e8-6956d66d0154"
      },
      "source": [
        "print(len(x_train))\n",
        "print(len(y_train))"
      ],
      "execution_count": null,
      "outputs": [
        {
          "output_type": "stream",
          "text": [
            "3389\n",
            "3389\n"
          ],
          "name": "stdout"
        }
      ]
    },
    {
      "cell_type": "code",
      "metadata": {
        "id": "QOscoMBzUN5S"
      },
      "source": [
        "# convers to np array\n",
        "x_train, y_train = np.array(x_train), np.array(y_train)"
      ],
      "execution_count": null,
      "outputs": []
    },
    {
      "cell_type": "code",
      "metadata": {
        "id": "q3yMQDQYUg62",
        "colab": {
          "base_uri": "https://localhost:8080/",
          "height": 53
        },
        "outputId": "2dbacae9-3e2b-4463-9473-19829deb5369"
      },
      "source": [
        "# reshape\n",
        "x_train = np.reshape(x_train, (x_train.shape[0], x_train.shape[1], 1))\n",
        "print(x_train.shape)\n",
        "print(y_train.shape)"
      ],
      "execution_count": null,
      "outputs": [
        {
          "output_type": "stream",
          "text": [
            "(3389, 60, 1)\n",
            "(3389,)\n"
          ],
          "name": "stdout"
        }
      ]
    },
    {
      "cell_type": "code",
      "metadata": {
        "id": "ZUAd5fkuWHmd"
      },
      "source": [
        "# build LSTM Model\n",
        "model = Sequential()\n",
        "model.add(LSTM(60, return_sequences=True, input_shape=(x_train.shape[1], 1)))\n",
        "model.add(LSTM(60, return_sequences=False))\n",
        "model.add(Dense(25))\n",
        "model.add(Dense(1))\n",
        "\n",
        "#compile model\n",
        "model.compile(optimizer='adam', loss='mean_squared_error', metrics=['accuracy'])"
      ],
      "execution_count": null,
      "outputs": []
    },
    {
      "cell_type": "code",
      "metadata": {
        "id": "C8FwD3PyXtrN",
        "colab": {
          "base_uri": "https://localhost:8080/",
          "height": 1000
        },
        "outputId": "ba8f77b2-2e7c-441f-d4f7-c1cffb7df294"
      },
      "source": [
        "# train the model\n",
        "model.fit(x_train, y_train, batch_size=100, epochs=100)"
      ],
      "execution_count": null,
      "outputs": [
        {
          "output_type": "stream",
          "text": [
            "Epoch 1/100\n",
            "3389/3389 [==============================] - 5s 1ms/step - loss: 0.0034 - accuracy: 2.9507e-04\n",
            "Epoch 2/100\n",
            "3389/3389 [==============================] - 4s 1ms/step - loss: 9.0569e-05 - accuracy: 2.9507e-04\n",
            "Epoch 3/100\n",
            "3389/3389 [==============================] - 4s 1ms/step - loss: 5.4142e-05 - accuracy: 2.9507e-04\n",
            "Epoch 4/100\n",
            "3389/3389 [==============================] - 4s 1ms/step - loss: 5.2362e-05 - accuracy: 2.9507e-04\n",
            "Epoch 5/100\n",
            "3389/3389 [==============================] - 4s 1ms/step - loss: 5.0094e-05 - accuracy: 2.9507e-04\n",
            "Epoch 6/100\n",
            "3389/3389 [==============================] - 4s 1ms/step - loss: 5.1014e-05 - accuracy: 2.9507e-04\n",
            "Epoch 7/100\n",
            "3389/3389 [==============================] - 4s 1ms/step - loss: 4.8733e-05 - accuracy: 2.9507e-04\n",
            "Epoch 8/100\n",
            "3389/3389 [==============================] - 4s 1ms/step - loss: 4.7075e-05 - accuracy: 2.9507e-04\n",
            "Epoch 9/100\n",
            "3389/3389 [==============================] - 4s 1ms/step - loss: 4.7351e-05 - accuracy: 2.9507e-04\n",
            "Epoch 10/100\n",
            "3389/3389 [==============================] - 4s 1ms/step - loss: 4.7398e-05 - accuracy: 2.9507e-04\n",
            "Epoch 11/100\n",
            "3389/3389 [==============================] - 4s 1ms/step - loss: 4.8402e-05 - accuracy: 2.9507e-04\n",
            "Epoch 12/100\n",
            "3389/3389 [==============================] - 4s 1ms/step - loss: 4.6155e-05 - accuracy: 2.9507e-04\n",
            "Epoch 13/100\n",
            "3389/3389 [==============================] - 4s 1ms/step - loss: 4.6246e-05 - accuracy: 2.9507e-04\n",
            "Epoch 14/100\n",
            "3389/3389 [==============================] - 4s 1ms/step - loss: 4.5567e-05 - accuracy: 2.9507e-04\n",
            "Epoch 15/100\n",
            "3389/3389 [==============================] - 4s 1ms/step - loss: 4.4488e-05 - accuracy: 2.9507e-04\n",
            "Epoch 16/100\n",
            "3389/3389 [==============================] - 4s 1ms/step - loss: 4.3820e-05 - accuracy: 2.9507e-04\n",
            "Epoch 17/100\n",
            "3389/3389 [==============================] - 4s 1ms/step - loss: 4.3305e-05 - accuracy: 2.9507e-04\n",
            "Epoch 18/100\n",
            "3389/3389 [==============================] - 4s 1ms/step - loss: 4.3845e-05 - accuracy: 2.9507e-04\n",
            "Epoch 19/100\n",
            "3389/3389 [==============================] - 4s 1ms/step - loss: 4.2428e-05 - accuracy: 2.9507e-04\n",
            "Epoch 20/100\n",
            "3389/3389 [==============================] - 4s 1ms/step - loss: 4.4942e-05 - accuracy: 2.9507e-04\n",
            "Epoch 21/100\n",
            "3389/3389 [==============================] - 4s 1ms/step - loss: 4.1687e-05 - accuracy: 2.9507e-04\n",
            "Epoch 22/100\n",
            "3389/3389 [==============================] - 4s 1ms/step - loss: 4.4000e-05 - accuracy: 2.9507e-04\n",
            "Epoch 23/100\n",
            "3389/3389 [==============================] - 4s 1ms/step - loss: 4.0564e-05 - accuracy: 2.9507e-04\n",
            "Epoch 24/100\n",
            "3389/3389 [==============================] - 4s 1ms/step - loss: 3.9185e-05 - accuracy: 2.9507e-04\n",
            "Epoch 25/100\n",
            "3389/3389 [==============================] - 4s 1ms/step - loss: 4.1626e-05 - accuracy: 2.9507e-04\n",
            "Epoch 26/100\n",
            "3389/3389 [==============================] - 4s 1ms/step - loss: 4.0365e-05 - accuracy: 2.9507e-04\n",
            "Epoch 27/100\n",
            "3389/3389 [==============================] - 4s 1ms/step - loss: 3.8849e-05 - accuracy: 2.9507e-04\n",
            "Epoch 28/100\n",
            "3389/3389 [==============================] - 4s 1ms/step - loss: 4.1552e-05 - accuracy: 2.9507e-04\n",
            "Epoch 29/100\n",
            "3389/3389 [==============================] - 4s 1ms/step - loss: 3.9806e-05 - accuracy: 2.9507e-04\n",
            "Epoch 30/100\n",
            "3389/3389 [==============================] - 4s 1ms/step - loss: 3.7810e-05 - accuracy: 2.9507e-04\n",
            "Epoch 31/100\n",
            "3389/3389 [==============================] - 4s 1ms/step - loss: 3.6556e-05 - accuracy: 2.9507e-04\n",
            "Epoch 32/100\n",
            "3389/3389 [==============================] - 4s 1ms/step - loss: 3.6359e-05 - accuracy: 2.9507e-04\n",
            "Epoch 33/100\n",
            "3389/3389 [==============================] - 4s 1ms/step - loss: 3.9223e-05 - accuracy: 2.9507e-04\n",
            "Epoch 34/100\n",
            "3389/3389 [==============================] - 4s 1ms/step - loss: 4.0795e-05 - accuracy: 2.9507e-04\n",
            "Epoch 35/100\n",
            "3389/3389 [==============================] - 4s 1ms/step - loss: 3.7137e-05 - accuracy: 2.9507e-04\n",
            "Epoch 36/100\n",
            "3389/3389 [==============================] - 4s 1ms/step - loss: 4.1837e-05 - accuracy: 2.9507e-04\n",
            "Epoch 37/100\n",
            "3389/3389 [==============================] - 4s 1ms/step - loss: 4.1237e-05 - accuracy: 2.9507e-04\n",
            "Epoch 38/100\n",
            "3389/3389 [==============================] - 4s 1ms/step - loss: 3.6062e-05 - accuracy: 2.9507e-04\n",
            "Epoch 39/100\n",
            "3389/3389 [==============================] - 4s 1ms/step - loss: 3.9401e-05 - accuracy: 2.9507e-04\n",
            "Epoch 40/100\n",
            "3389/3389 [==============================] - 4s 1ms/step - loss: 3.9705e-05 - accuracy: 2.9507e-04\n",
            "Epoch 41/100\n",
            "3389/3389 [==============================] - 4s 1ms/step - loss: 3.5123e-05 - accuracy: 2.9507e-04\n",
            "Epoch 42/100\n",
            "3389/3389 [==============================] - 4s 1ms/step - loss: 3.5382e-05 - accuracy: 2.9507e-04\n",
            "Epoch 43/100\n",
            "3389/3389 [==============================] - 4s 1ms/step - loss: 3.4465e-05 - accuracy: 2.9507e-04\n",
            "Epoch 44/100\n",
            "3389/3389 [==============================] - 4s 1ms/step - loss: 3.4639e-05 - accuracy: 2.9507e-04\n",
            "Epoch 45/100\n",
            "3389/3389 [==============================] - 4s 1ms/step - loss: 3.4788e-05 - accuracy: 2.9507e-04\n",
            "Epoch 46/100\n",
            "3389/3389 [==============================] - 4s 1ms/step - loss: 3.5027e-05 - accuracy: 2.9507e-04\n",
            "Epoch 47/100\n",
            "3389/3389 [==============================] - 4s 1ms/step - loss: 3.4901e-05 - accuracy: 2.9507e-04\n",
            "Epoch 48/100\n",
            "3389/3389 [==============================] - 4s 1ms/step - loss: 3.4004e-05 - accuracy: 2.9507e-04\n",
            "Epoch 49/100\n",
            "3389/3389 [==============================] - 4s 1ms/step - loss: 3.3101e-05 - accuracy: 2.9507e-04\n",
            "Epoch 50/100\n",
            "3389/3389 [==============================] - 4s 1ms/step - loss: 3.0821e-05 - accuracy: 2.9507e-04\n",
            "Epoch 51/100\n",
            "3389/3389 [==============================] - 4s 1ms/step - loss: 3.4487e-05 - accuracy: 2.9507e-04\n",
            "Epoch 52/100\n",
            "3389/3389 [==============================] - 4s 1ms/step - loss: 2.9858e-05 - accuracy: 2.9507e-04\n",
            "Epoch 53/100\n",
            "3389/3389 [==============================] - 4s 1ms/step - loss: 2.8626e-05 - accuracy: 2.9507e-04\n",
            "Epoch 54/100\n",
            "3389/3389 [==============================] - 4s 1ms/step - loss: 2.7879e-05 - accuracy: 2.9507e-04\n",
            "Epoch 55/100\n",
            "3389/3389 [==============================] - 4s 1ms/step - loss: 2.9558e-05 - accuracy: 2.9507e-04\n",
            "Epoch 56/100\n",
            "3389/3389 [==============================] - 4s 1ms/step - loss: 2.7728e-05 - accuracy: 2.9507e-04\n",
            "Epoch 57/100\n",
            "3389/3389 [==============================] - 4s 1ms/step - loss: 2.9493e-05 - accuracy: 2.9507e-04\n",
            "Epoch 58/100\n",
            "3389/3389 [==============================] - 4s 1ms/step - loss: 3.0546e-05 - accuracy: 2.9507e-04\n",
            "Epoch 59/100\n",
            "3389/3389 [==============================] - 4s 1ms/step - loss: 2.9115e-05 - accuracy: 2.9507e-04\n",
            "Epoch 60/100\n",
            "3389/3389 [==============================] - 4s 1ms/step - loss: 3.0165e-05 - accuracy: 2.9507e-04\n",
            "Epoch 61/100\n",
            "3389/3389 [==============================] - 4s 1ms/step - loss: 2.8603e-05 - accuracy: 2.9507e-04\n",
            "Epoch 62/100\n",
            "3389/3389 [==============================] - 4s 1ms/step - loss: 2.9287e-05 - accuracy: 2.9507e-04\n",
            "Epoch 63/100\n",
            "3389/3389 [==============================] - 4s 1ms/step - loss: 2.6638e-05 - accuracy: 2.9507e-04\n",
            "Epoch 64/100\n",
            "3389/3389 [==============================] - 4s 1ms/step - loss: 2.7072e-05 - accuracy: 2.9507e-04\n",
            "Epoch 65/100\n",
            "3389/3389 [==============================] - 4s 1ms/step - loss: 2.6184e-05 - accuracy: 2.9507e-04\n",
            "Epoch 66/100\n",
            "3389/3389 [==============================] - 4s 1ms/step - loss: 2.4955e-05 - accuracy: 2.9507e-04\n",
            "Epoch 67/100\n",
            "3389/3389 [==============================] - 4s 1ms/step - loss: 2.5314e-05 - accuracy: 2.9507e-04\n",
            "Epoch 68/100\n",
            "3389/3389 [==============================] - 4s 1ms/step - loss: 4.2526e-05 - accuracy: 2.9507e-04\n",
            "Epoch 69/100\n",
            "3389/3389 [==============================] - 4s 1ms/step - loss: 2.7236e-05 - accuracy: 2.9507e-04\n",
            "Epoch 70/100\n",
            "3389/3389 [==============================] - 4s 1ms/step - loss: 2.4361e-05 - accuracy: 2.9507e-04\n",
            "Epoch 71/100\n",
            "3389/3389 [==============================] - 4s 1ms/step - loss: 2.7040e-05 - accuracy: 2.9507e-04\n",
            "Epoch 72/100\n",
            "3389/3389 [==============================] - 4s 1ms/step - loss: 2.3074e-05 - accuracy: 2.9507e-04\n",
            "Epoch 73/100\n",
            "3389/3389 [==============================] - 4s 1ms/step - loss: 2.4031e-05 - accuracy: 2.9507e-04\n",
            "Epoch 74/100\n",
            "3389/3389 [==============================] - 4s 1ms/step - loss: 2.3068e-05 - accuracy: 2.9507e-04\n",
            "Epoch 75/100\n",
            "3389/3389 [==============================] - 4s 1ms/step - loss: 2.3363e-05 - accuracy: 2.9507e-04\n",
            "Epoch 76/100\n",
            "3389/3389 [==============================] - 4s 1ms/step - loss: 2.4545e-05 - accuracy: 2.9507e-04\n",
            "Epoch 77/100\n",
            "3389/3389 [==============================] - 4s 1ms/step - loss: 2.7564e-05 - accuracy: 2.9507e-04\n",
            "Epoch 78/100\n",
            "3389/3389 [==============================] - 4s 1ms/step - loss: 2.1505e-05 - accuracy: 2.9507e-04\n",
            "Epoch 79/100\n",
            "3389/3389 [==============================] - 4s 1ms/step - loss: 2.3261e-05 - accuracy: 2.9507e-04\n",
            "Epoch 80/100\n",
            "3389/3389 [==============================] - 4s 1ms/step - loss: 2.0822e-05 - accuracy: 2.9507e-04\n",
            "Epoch 81/100\n",
            "3389/3389 [==============================] - 4s 1ms/step - loss: 2.0303e-05 - accuracy: 2.9507e-04\n",
            "Epoch 82/100\n",
            "3389/3389 [==============================] - 4s 1ms/step - loss: 2.1429e-05 - accuracy: 2.9507e-04\n",
            "Epoch 83/100\n",
            "3389/3389 [==============================] - 4s 1ms/step - loss: 2.3278e-05 - accuracy: 2.9507e-04\n",
            "Epoch 84/100\n",
            "3389/3389 [==============================] - 4s 1ms/step - loss: 2.2921e-05 - accuracy: 2.9507e-04\n",
            "Epoch 85/100\n",
            "3389/3389 [==============================] - 4s 1ms/step - loss: 2.4163e-05 - accuracy: 2.9507e-04\n",
            "Epoch 86/100\n",
            "3389/3389 [==============================] - 4s 1ms/step - loss: 1.9888e-05 - accuracy: 2.9507e-04\n",
            "Epoch 87/100\n",
            "3389/3389 [==============================] - 4s 1ms/step - loss: 2.0436e-05 - accuracy: 2.9507e-04\n",
            "Epoch 88/100\n",
            "3389/3389 [==============================] - 4s 1ms/step - loss: 2.4496e-05 - accuracy: 2.9507e-04\n",
            "Epoch 89/100\n",
            "3389/3389 [==============================] - 4s 1ms/step - loss: 2.0193e-05 - accuracy: 2.9507e-04\n",
            "Epoch 90/100\n",
            "3389/3389 [==============================] - 4s 1ms/step - loss: 1.9067e-05 - accuracy: 2.9507e-04\n",
            "Epoch 91/100\n",
            "3389/3389 [==============================] - 4s 1ms/step - loss: 1.9088e-05 - accuracy: 2.9507e-04\n",
            "Epoch 92/100\n",
            "3389/3389 [==============================] - 4s 1ms/step - loss: 1.8009e-05 - accuracy: 2.9507e-04\n",
            "Epoch 93/100\n",
            "3389/3389 [==============================] - 4s 1ms/step - loss: 2.0839e-05 - accuracy: 2.9507e-04\n",
            "Epoch 94/100\n",
            "3389/3389 [==============================] - 4s 1ms/step - loss: 2.2306e-05 - accuracy: 2.9507e-04\n",
            "Epoch 95/100\n",
            "3389/3389 [==============================] - 4s 1ms/step - loss: 2.2861e-05 - accuracy: 2.9507e-04\n",
            "Epoch 96/100\n",
            "3389/3389 [==============================] - 4s 1ms/step - loss: 2.0909e-05 - accuracy: 2.9507e-04\n",
            "Epoch 97/100\n",
            "3389/3389 [==============================] - 4s 1ms/step - loss: 2.0992e-05 - accuracy: 2.9507e-04\n",
            "Epoch 98/100\n",
            "3389/3389 [==============================] - 4s 1ms/step - loss: 1.9144e-05 - accuracy: 2.9507e-04\n",
            "Epoch 99/100\n",
            "3389/3389 [==============================] - 4s 1ms/step - loss: 1.8224e-05 - accuracy: 2.9507e-04\n",
            "Epoch 100/100\n",
            "3389/3389 [==============================] - 4s 1ms/step - loss: 1.8296e-05 - accuracy: 2.9507e-04\n"
          ],
          "name": "stdout"
        },
        {
          "output_type": "execute_result",
          "data": {
            "text/plain": [
              "<keras.callbacks.callbacks.History at 0x7f8afe4fcd30>"
            ]
          },
          "metadata": {
            "tags": []
          },
          "execution_count": 490
        }
      ]
    },
    {
      "cell_type": "code",
      "metadata": {
        "id": "EgludZOs-dzg"
      },
      "source": [
        ""
      ],
      "execution_count": null,
      "outputs": []
    },
    {
      "cell_type": "code",
      "metadata": {
        "id": "q6EUScTXoVj4"
      },
      "source": [
        "# create test\n",
        "test_data = scaled_data[training_data_len-60:, :]\n",
        "\n",
        "x_test = []\n",
        "y_test = dataset[training_data_len:, :]\n",
        "\n",
        "for i in range(60, len(test_data)):\n",
        "  x_test.append(test_data[i-60:i, :])\n"
      ],
      "execution_count": null,
      "outputs": []
    },
    {
      "cell_type": "code",
      "metadata": {
        "id": "aOi8QOqipBLJ"
      },
      "source": [
        " # reshape the data\n",
        "x_test = np.array(x_test)\n",
        "x_test = np.reshape(x_test, (x_test.shape[0], x_test.shape[1], 1))"
      ],
      "execution_count": null,
      "outputs": []
    },
    {
      "cell_type": "code",
      "metadata": {
        "id": "8OL7Txwqpqq4"
      },
      "source": [
        "# get the model predicted price values\n",
        "predictions = model.predict(x_test)\n",
        "predictions = scaler.inverse_transform(predictions)"
      ],
      "execution_count": null,
      "outputs": []
    },
    {
      "cell_type": "code",
      "metadata": {
        "id": "j9ziqhxSt1L6",
        "colab": {
          "base_uri": "https://localhost:8080/",
          "height": 35
        },
        "outputId": "3d95a7fc-11ce-43d5-ebf8-c9d489699a37"
      },
      "source": [
        "# get the RMSE\n",
        "rmse = np.sqrt(np.mean((predictions - y_test)**2))\n",
        "rmse"
      ],
      "execution_count": null,
      "outputs": [
        {
          "output_type": "execute_result",
          "data": {
            "text/plain": [
              "3.0474226947154985"
            ]
          },
          "metadata": {
            "tags": []
          },
          "execution_count": 494
        }
      ]
    },
    {
      "cell_type": "code",
      "metadata": {
        "id": "uEPRT4tQxVUf",
        "colab": {
          "base_uri": "https://localhost:8080/",
          "height": 667
        },
        "outputId": "871cfebf-7d02-42ee-a296-849cdee5a28b"
      },
      "source": [
        "# plot data\n",
        "train = data[:training_data_len]\n",
        "valid = data[training_data_len:]\n",
        "valid['Predictions'] = predictions\n",
        "\n",
        "#visualize the data\n",
        "plt.figure(figsize=(16,8))\n",
        "plt.title('Model')\n",
        "plt.xlabel('Date', fontsize=18)\n",
        "plt.ylabel('Close Prices USD ($)', fontsize=18)\n",
        "plt.plot(train['Close'])\n",
        "plt.plot(valid[['Close', 'Predictions']])\n",
        "plt.legend(['Train', 'Val', 'Predictions'], loc='lower right')\n",
        "plt.show()\n",
        "\n"
      ],
      "execution_count": null,
      "outputs": [
        {
          "output_type": "stream",
          "text": [
            "/usr/local/lib/python3.6/dist-packages/ipykernel_launcher.py:3: SettingWithCopyWarning: \n",
            "A value is trying to be set on a copy of a slice from a DataFrame.\n",
            "Try using .loc[row_indexer,col_indexer] = value instead\n",
            "\n",
            "See the caveats in the documentation: https://pandas.pydata.org/pandas-docs/stable/user_guide/indexing.html#returning-a-view-versus-a-copy\n",
            "  This is separate from the ipykernel package so we can avoid doing imports until\n"
          ],
          "name": "stderr"
        },
        {
          "output_type": "display_data",
          "data": {
            "image/png": "[encoded data removed]",
            "text/plain": [
              "<Figure size 1152x576 with 1 Axes>"
            ]
          },
          "metadata": {
            "tags": []
          }
        }
      ]
    },
    {
      "cell_type": "code",
      "metadata": {
        "id": "547c_kjT1AOh",
        "colab": {
          "base_uri": "https://localhost:8080/",
          "height": 436
        },
        "outputId": "6d3e6b60-9821-4857-8b71-8ce3869e23f2"
      },
      "source": [
        "# show the valid and predicted prices\n",
        "valid"
      ],
      "execution_count": null,
      "outputs": [
        {
          "output_type": "execute_result",
          "data": {
            "text/html": [
              "<div>\n",
              "<style scoped>\n",
              "    .dataframe tbody tr th:only-of-type {\n",
              "        vertical-align: middle;\n",
              "    }\n",
              "\n",
              "    .dataframe tbody tr th {\n",
              "        vertical-align: top;\n",
              "    }\n",
              "\n",
              "    .dataframe thead th {\n",
              "        text-align: right;\n",
              "    }\n",
              "</style>\n",
              "<table border=\"1\" class=\"dataframe\">\n",
              "  <thead>\n",
              "    <tr style=\"text-align: right;\">\n",
              "      <th></th>\n",
              "      <th>Close</th>\n",
              "      <th>Predictions</th>\n",
              "    </tr>\n",
              "    <tr>\n",
              "      <th>Date</th>\n",
              "      <th></th>\n",
              "      <th></th>\n",
              "    </tr>\n",
              "  </thead>\n",
              "  <tbody>\n",
              "    <tr>\n",
              "      <th>2018-09-14</th>\n",
              "      <td>113.370003</td>\n",
              "      <td>113.487495</td>\n",
              "    </tr>\n",
              "    <tr>\n",
              "      <th>2018-09-17</th>\n",
              "      <td>112.139999</td>\n",
              "      <td>114.155960</td>\n",
              "    </tr>\n",
              "    <tr>\n",
              "      <th>2018-09-18</th>\n",
              "      <td>113.209999</td>\n",
              "      <td>113.644478</td>\n",
              "    </tr>\n",
              "    <tr>\n",
              "      <th>2018-09-19</th>\n",
              "      <td>111.699997</td>\n",
              "      <td>113.770691</td>\n",
              "    </tr>\n",
              "    <tr>\n",
              "      <th>2018-09-20</th>\n",
              "      <td>113.570000</td>\n",
              "      <td>113.073708</td>\n",
              "    </tr>\n",
              "    <tr>\n",
              "      <th>...</th>\n",
              "      <td>...</td>\n",
              "      <td>...</td>\n",
              "    </tr>\n",
              "    <tr>\n",
              "      <th>2020-03-18</th>\n",
              "      <td>140.399994</td>\n",
              "      <td>147.372620</td>\n",
              "    </tr>\n",
              "    <tr>\n",
              "      <th>2020-03-19</th>\n",
              "      <td>142.710007</td>\n",
              "      <td>145.412354</td>\n",
              "    </tr>\n",
              "    <tr>\n",
              "      <th>2020-03-20</th>\n",
              "      <td>137.350006</td>\n",
              "      <td>145.553604</td>\n",
              "    </tr>\n",
              "    <tr>\n",
              "      <th>2020-03-23</th>\n",
              "      <td>135.979996</td>\n",
              "      <td>142.695221</td>\n",
              "    </tr>\n",
              "    <tr>\n",
              "      <th>2020-03-24</th>\n",
              "      <td>148.339996</td>\n",
              "      <td>140.255096</td>\n",
              "    </tr>\n",
              "  </tbody>\n",
              "</table>\n",
              "<p>383 rows × 2 columns</p>\n",
              "</div>"
            ],
            "text/plain": [
              "                 Close  Predictions\n",
              "Date                               \n",
              "2018-09-14  113.370003   113.487495\n",
              "2018-09-17  112.139999   114.155960\n",
              "2018-09-18  113.209999   113.644478\n",
              "2018-09-19  111.699997   113.770691\n",
              "2018-09-20  113.570000   113.073708\n",
              "...                ...          ...\n",
              "2020-03-18  140.399994   147.372620\n",
              "2020-03-19  142.710007   145.412354\n",
              "2020-03-20  137.350006   145.553604\n",
              "2020-03-23  135.979996   142.695221\n",
              "2020-03-24  148.339996   140.255096\n",
              "\n",
              "[383 rows x 2 columns]"
            ]
          },
          "metadata": {
            "tags": []
          },
          "execution_count": 497
        }
      ]
    },
    {
      "cell_type": "code",
      "metadata": {
        "id": "cv7mz2VN1P5f",
        "colab": {
          "base_uri": "https://localhost:8080/",
          "height": 35
        },
        "outputId": "2efad326-aa08-48ac-99d4-fb6805597cfd"
      },
      "source": [
        "# predict for 2020-04-20\n",
        "apple_quote = web.DataReader('MSFT', data_source='yahoo', start='2012-01-01', end='2020-04-23')\n",
        "\n",
        "new_df = apple_quote.filter(['Close'])\n",
        "last_60_days = new_df[-60:].values\n",
        "\n",
        "last_60_days_scaled = scaler.transform(last_60_days)\n",
        "\n",
        "X_test = []\n",
        "X_test.append(last_60_days_scaled)\n",
        "\n",
        "X_test = np.array(X_test)\n",
        "Xtest = np.reshape(X_test, (X_test.shape[0], X_test.shape[1], 1))\n",
        "\n",
        "pred_price = model.predict(X_test)\n",
        "\n",
        "pred_price = scaler.inverse_transform(pred_price)\n",
        "print(pred_price)"
      ],
      "execution_count": null,
      "outputs": [
        {
          "output_type": "stream",
          "text": [
            "[[171.69269]]\n"
          ],
          "name": "stdout"
        }
      ]
    },
    {
      "cell_type": "code",
      "metadata": {
        "id": "nuo44n3C207X",
        "colab": {
          "base_uri": "https://localhost:8080/",
          "height": 72
        },
        "outputId": "0b188b32-61b6-4298-9d3e-b67b8850ed2a"
      },
      "source": [
        "# get acualt price\n",
        "apple_quote2 = web.DataReader('MSFT', data_source='yahoo', start='2020-04-24', end='2020-04-24')\n",
        "print(apple_quote2['Close'])"
      ],
      "execution_count": null,
      "outputs": [
        {
          "output_type": "stream",
          "text": [
            "Date\n",
            "2020-04-24    174.550003\n",
            "Name: Close, dtype: float64\n"
          ],
          "name": "stdout"
        }
      ]
    }
  ]
}